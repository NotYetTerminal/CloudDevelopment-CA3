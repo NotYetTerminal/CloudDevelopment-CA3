{
 "cells": [
  {
   "cell_type": "code",
   "execution_count": 3,
   "metadata": {},
   "outputs": [],
   "source": [
    "import DBcm"
   ]
  },
  {
   "cell_type": "code",
   "execution_count": 4,
   "metadata": {},
   "outputs": [],
   "source": [
    "config = {\n",
    "    \"user\": \"swimuser\",\n",
    "    \"password\": \"swimuserpasswd\",\n",
    "    \"database\": \"SwimclubDB\",\n",
    "    \"host\": \"localhost\",\n",
    "}"
   ]
  },
  {
   "cell_type": "code",
   "execution_count": 5,
   "metadata": {},
   "outputs": [
    {
     "name": "stdout",
     "output_type": "stream",
     "text": [
      "[('events',), ('swimmers',), ('times',)]\n"
     ]
    }
   ],
   "source": [
    "with DBcm.UseDatabase(config) as db:\n",
    "    SQL = \"\"\" show tables \"\"\"\n",
    "    db.execute(SQL)\n",
    "    results = db.fetchall()\n",
    "\n",
    "print(results)"
   ]
  }
 ],
 "metadata": {
  "kernelspec": {
   "display_name": ".venv",
   "language": "python",
   "name": "python3"
  },
  "language_info": {
   "codemirror_mode": {
    "name": "ipython",
    "version": 3
   },
   "file_extension": ".py",
   "mimetype": "text/x-python",
   "name": "python",
   "nbconvert_exporter": "python",
   "pygments_lexer": "ipython3",
   "version": "3.11.2"
  }
 },
 "nbformat": 4,
 "nbformat_minor": 2
}
