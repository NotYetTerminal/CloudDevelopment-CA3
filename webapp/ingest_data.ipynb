{
 "cells": [
  {
   "cell_type": "code",
   "execution_count": 9,
   "metadata": {},
   "outputs": [],
   "source": [
    "import DBcm\n",
    "import swim_utils\n",
    "import os\n",
    "import datetime"
   ]
  },
  {
   "cell_type": "code",
   "execution_count": 10,
   "metadata": {},
   "outputs": [],
   "source": [
    "config = {\n",
    "    \"user\": \"swimuser\",\n",
    "    \"password\": \"swimuserpasswd\",\n",
    "    \"database\": \"SwimclubDB\",\n",
    "    \"host\": \"localhost\",\n",
    "}"
   ]
  },
  {
   "cell_type": "code",
   "execution_count": 11,
   "metadata": {},
   "outputs": [],
   "source": [
    "PROCESSING_FOLDER = \"ToUploadSwimData\"\n",
    "UPLOADED_FOLDER = \"UploadedSwimData\""
   ]
  },
  {
   "cell_type": "code",
   "execution_count": 12,
   "metadata": {},
   "outputs": [],
   "source": [
    "def query_swimmers() -> list:\n",
    "    SQL: str = \"\"\"SELECT * from swimmers\"\"\"\n",
    "\n",
    "    with DBcm.UseDatabase(config) as db:\n",
    "        db.execute(SQL)\n",
    "        data: list = db.fetchall()\n",
    "\n",
    "    return [row[1] + \"-\" + str(row[2]) for row in data]\n"
   ]
  },
  {
   "cell_type": "code",
   "execution_count": 13,
   "metadata": {},
   "outputs": [],
   "source": [
    "def query_events() -> list:\n",
    "    SQL: str = \"\"\"SELECT * FROM events\"\"\"\n",
    "\n",
    "    with DBcm.UseDatabase(config) as db:\n",
    "        db.execute(SQL)\n",
    "        data: list = db.fetchall()\n",
    "\n",
    "    return [row[1] + \"-\" + row[2] for row in data]"
   ]
  },
  {
   "cell_type": "code",
   "execution_count": 14,
   "metadata": {},
   "outputs": [],
   "source": [
    "def upload_file_data(file_name: str) -> None:\n",
    "    (\n",
    "        name,\n",
    "        age,\n",
    "        distance,\n",
    "        stroke,\n",
    "        the_times,\n",
    "        converts,\n",
    "        the_average,\n",
    "    ) = swim_utils.get_swimmers_data(file_name)\n",
    "\n",
    "    swimmers: list = query_swimmers()\n",
    "    events: list = query_events()\n",
    "\n",
    "    with DBcm.UseDatabase(config) as db:\n",
    "        if name + \"-\" + age not in swimmers:\n",
    "            SQL: str = f\"\"\"INSERT INTO swimmers (name, age) VALUES (\"{name}\", {age})\"\"\"\n",
    "            db.execute(SQL)\n",
    "\n",
    "        SQL: str = f\"\"\"SELECT swimmer_id FROM swimmers WHERE name=\"{name}\" AND age={age} \"\"\"\n",
    "        db.execute(SQL)\n",
    "        swimmer_id: int = db.fetchall()[0][0]\n",
    "        \n",
    "        if distance + \"-\" + stroke not in events:\n",
    "            SQL: str = f\"\"\"INSERT INTO events (distance, stroke) VALUES (\"{distance}\", \"{stroke}\")\"\"\"\n",
    "            db.execute(SQL)\n",
    "\n",
    "        SQL: str = f\"\"\"SELECT event_id FROM events WHERE distance=\"{distance}\" AND stroke=\"{stroke}\" \"\"\"\n",
    "        db.execute(SQL)\n",
    "        event_id: int = db.fetchall()[0][0]\n",
    "\n",
    "        for time in the_times:\n",
    "            SQL: str = f\"\"\"INSERT INTO times (swimmer_id, event_id, time) VALUES ({swimmer_id}, {event_id}, \"0:{time}\")\"\"\"\n",
    "            db.execute(SQL)"
   ]
  },
  {
   "cell_type": "code",
   "execution_count": 15,
   "metadata": {},
   "outputs": [
    {
     "name": "stdout",
     "output_type": "stream",
     "text": [
      "Put new folder with files in ToUploadSwimData.\n",
      "Files uploaded are moved to UploadedSwimData.\n"
     ]
    }
   ],
   "source": [
    "if PROCESSING_FOLDER not in os.listdir():\n",
    "    os.makedirs(PROCESSING_FOLDER)\n",
    "print(f\"Put new folder with files in {PROCESSING_FOLDER}.\")\n",
    "\n",
    "if UPLOADED_FOLDER not in os.listdir():\n",
    "    os.makedirs(UPLOADED_FOLDER)\n",
    "print(f\"Files uploaded are moved to {UPLOADED_FOLDER}.\")"
   ]
  },
  {
   "cell_type": "code",
   "execution_count": 16,
   "metadata": {},
   "outputs": [
    {
     "name": "stdout",
     "output_type": "stream",
     "text": [
      "Files uploaded.\n"
     ]
    }
   ],
   "source": [
    "directories: list = os.listdir(PROCESSING_FOLDER)\n",
    "if len(directories) == 0:\n",
    "    print(f\"No folders found. Make sure files are in a folder and then in {PROCESSING_FOLDER}.\")\n",
    "else:\n",
    "    files: list = os.listdir(PROCESSING_FOLDER + \"/\" + directories[0])\n",
    "    if len(files) == 0:\n",
    "        print(f\"No files found. Make sure files are in a folder and then in {PROCESSING_FOLDER}.\")\n",
    "    else:\n",
    "        if directories[0] not in os.listdir(UPLOADED_FOLDER):\n",
    "            os.makedirs(UPLOADED_FOLDER + \"/\" + directories[0])\n",
    "        for file in files:\n",
    "            upload_file_data(PROCESSING_FOLDER + \"/\" + directories[0] + \"/\" + file)\n",
    "            os.rename(PROCESSING_FOLDER + \"/\" + directories[0] + \"/\" + file, UPLOADED_FOLDER + \"/\" + directories[0] + \"/\" + file)\n",
    "        os.rmdir(PROCESSING_FOLDER + \"/\" + directories[0])\n",
    "        print(\"Files uploaded.\")"
   ]
  }
 ],
 "metadata": {
  "kernelspec": {
   "display_name": ".venv",
   "language": "python",
   "name": "python3"
  },
  "language_info": {
   "codemirror_mode": {
    "name": "ipython",
    "version": 3
   },
   "file_extension": ".py",
   "mimetype": "text/x-python",
   "name": "python",
   "nbconvert_exporter": "python",
   "pygments_lexer": "ipython3",
   "version": "3.11.2"
  }
 },
 "nbformat": 4,
 "nbformat_minor": 2
}
