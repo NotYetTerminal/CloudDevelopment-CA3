{
 "cells": [
  {
   "cell_type": "code",
   "execution_count": 1,
   "metadata": {},
   "outputs": [],
   "source": [
    "import DBcm\n",
    "import swim_utils"
   ]
  },
  {
   "cell_type": "code",
   "execution_count": 2,
   "metadata": {},
   "outputs": [],
   "source": [
    "config = {\n",
    "    \"user\": \"swimuser\",\n",
    "    \"password\": \"swimuserpasswd\",\n",
    "    \"database\": \"SwimclubDB\",\n",
    "    \"host\": \"localhost\",\n",
    "}"
   ]
  },
  {
   "cell_type": "code",
   "execution_count": 3,
   "metadata": {},
   "outputs": [
    {
     "name": "stdout",
     "output_type": "stream",
     "text": [
      "[('events',), ('swimmers',), ('times',)]\n"
     ]
    }
   ],
   "source": [
    "with DBcm.UseDatabase(config) as db:\n",
    "    SQL = \"\"\" show tables \"\"\"\n",
    "    db.execute(SQL)\n",
    "    results = db.fetchall()\n",
    "\n",
    "print(results)"
   ]
  },
  {
   "cell_type": "code",
   "execution_count": 4,
   "metadata": {},
   "outputs": [
    {
     "name": "stdout",
     "output_type": "stream",
     "text": [
      "('Abi', '10', '100m', 'Back', ['1:31.59', '1:26.55', '1:28.75', '1:39.79', '1:32.37'], [9159, 8655, 8875, 9979, 9237], '1:31.81')\n"
     ]
    }
   ],
   "source": [
    "def upload_data(file_name: str) -> None:\n",
    "    (\n",
    "        name,\n",
    "        age,\n",
    "        distance,\n",
    "        stroke,\n",
    "        the_times,\n",
    "        converts,\n",
    "        the_average,\n",
    "    ) = swim_utils.get_swimmers_data(file_name)\n",
    "\n",
    "    print((\n",
    "        name,\n",
    "        age,\n",
    "        distance,\n",
    "        stroke,\n",
    "        the_times,\n",
    "        converts,\n",
    "        the_average,\n",
    "    ))\n",
    "\n",
    "    with DBcm.UseDatabase(config) as db:\n",
    "        SQL = \"\"\"   INSERT INTO events\n",
    "                    (name, age, location)\n",
    "                    VALUES\n",
    "                    (\"Paul\", 21, \"Carlow\")\n",
    "            \"\"\"\n",
    "\n",
    "upload_data(\"SwimData/swimdata/Abi-10-100m-Back.txt\")\n"
   ]
  }
 ],
 "metadata": {
  "kernelspec": {
   "display_name": ".venv",
   "language": "python",
   "name": "python3"
  },
  "language_info": {
   "codemirror_mode": {
    "name": "ipython",
    "version": 3
   },
   "file_extension": ".py",
   "mimetype": "text/x-python",
   "name": "python",
   "nbconvert_exporter": "python",
   "pygments_lexer": "ipython3",
   "version": "3.11.2"
  }
 },
 "nbformat": 4,
 "nbformat_minor": 2
}
